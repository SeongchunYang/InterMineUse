{
 "metadata": {
  "language_info": {
   "codemirror_mode": {
    "name": "ipython",
    "version": 3
   },
   "file_extension": ".py",
   "mimetype": "text/x-python",
   "name": "python",
   "nbconvert_exporter": "python",
   "pygments_lexer": "ipython3",
   "version": "3.8.10"
  },
  "orig_nbformat": 2,
  "kernelspec": {
   "name": "python3",
   "display_name": "Python 3.8.10 64-bit ('intermine': conda)"
  },
  "interpreter": {
   "hash": "36f67154428f13813bd69d126f2b50302777ba53ba17d7519dbf39ab0a1ec637"
  }
 },
 "nbformat": 4,
 "nbformat_minor": 2,
 "cells": [
  {
   "cell_type": "markdown",
   "source": [
    "# GOterms Import\n",
    "\n",
    "Through InterMine.\n",
    "\n",
    "This is just for MouseMine, and mouse specific GO terms.\n",
    "\n",
    "But for those who are using this as a template for other organisms, feel free to go dig in to <code>./mousemine/mousemine_query.py</code>.\n",
    "\n",
    "----\n",
    "\n",
    "Author : Seongchun Yang\n",
    "\n",
    "Affiliation : Kyoto University"
   ],
   "metadata": {}
  },
  {
   "cell_type": "code",
   "execution_count": 3,
   "source": [
    "import os\n",
    "import pandas as pd\n",
    "from mousemine.mousemine_query import grab, save_to_csv"
   ],
   "outputs": [],
   "metadata": {}
  },
  {
   "cell_type": "code",
   "execution_count": 4,
   "source": [
    "terms = [\n",
    "    'astrocyte activation',\n",
    "    'astrocyte differentiation',\n",
    "    'astrocyte development'\n",
    "]"
   ],
   "outputs": [],
   "metadata": {}
  },
  {
   "cell_type": "code",
   "execution_count": 6,
   "source": [
    "data = grab(terms)\n",
    "save_to_csv(data,filepath=os.path.curdir)"
   ],
   "outputs": [
    {
     "output_type": "stream",
     "name": "stdout",
     "text": [
      "GOterm                                   Unique #   Total #   \n",
      "------------------------------------------------------------------------------------------\n",
      "astrocyte activation                           17       23\n",
      "\n",
      "astrocyte differentiation                      83      109\n",
      "\n",
      "astrocyte development                          33       41\n",
      "\n"
     ]
    }
   ],
   "metadata": {}
  }
 ]
}